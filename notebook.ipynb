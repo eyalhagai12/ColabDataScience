{
  "nbformat": 4,
  "nbformat_minor": 0,
  "metadata": {
    "colab": {
      "name": "myProject.ipynb",
      "provenance": [],
      "collapsed_sections": [
        "OCh5BY6-CwPn",
        "FF-H_QtdgbE8"
      ],
      "mount_file_id": "176CP8eN6pldp1nHmc9NmA6cobhCA3gEe",
      "authorship_tag": "ABX9TyMbnfFqUcsUks1g3jxvQE4I",
      "include_colab_link": true
    },
    "kernelspec": {
      "name": "python3",
      "display_name": "Python 3"
    },
    "language_info": {
      "name": "python"
    }
  },
  "cells": [
    {
      "cell_type": "markdown",
      "metadata": {
        "id": "view-in-github",
        "colab_type": "text"
      },
      "source": [
        "<a href=\"https://colab.research.google.com/github/eyalhagai12/ColabDataScience/blob/main/notebook.ipynb\" target=\"_parent\"><img src=\"https://colab.research.google.com/assets/colab-badge.svg\" alt=\"Open In Colab\"/></a>"
      ]
    },
    {
      "cell_type": "markdown",
      "metadata": {
        "id": "OCh5BY6-CwPn"
      },
      "source": [
        "# import relevant libraries and explore and analyse data\n",
        "\n"
      ]
    },
    {
      "cell_type": "code",
      "metadata": {
        "id": "yud3ZdRJF1CM"
      },
      "source": [
        "import pandas as pd\n",
        "import numpy as np\n",
        "import matplotlib.pyplot as plt"
      ],
      "execution_count": null,
      "outputs": []
    },
    {
      "cell_type": "code",
      "metadata": {
        "colab": {
          "base_uri": "https://localhost:8080/"
        },
        "id": "t8BRbT1PGM9c",
        "outputId": "8ca5d08e-3599-4101-e23a-d7d89c2d35cc"
      },
      "source": [
        "!unzip /content/drive/MyDrive/colab_datasets/titanic.zip"
      ],
      "execution_count": null,
      "outputs": [
        {
          "output_type": "stream",
          "name": "stdout",
          "text": [
            "Archive:  /content/drive/MyDrive/colab_datasets/titanic.zip\n",
            "  inflating: gender_submission.csv   \n",
            "  inflating: test.csv                \n",
            "  inflating: train.csv               \n"
          ]
        }
      ]
    },
    {
      "cell_type": "code",
      "metadata": {
        "colab": {
          "base_uri": "https://localhost:8080/"
        },
        "id": "Kc1KDWWFJAcn",
        "outputId": "9d9cbce2-034a-47b9-b2c4-bb14d8b24639"
      },
      "source": [
        "train_data = pd.read_csv(\"train.csv\")\n",
        "\n",
        "train_data.columns"
      ],
      "execution_count": null,
      "outputs": [
        {
          "output_type": "execute_result",
          "data": {
            "text/plain": [
              "Index(['PassengerId', 'Survived', 'Pclass', 'Name', 'Sex', 'Age', 'SibSp',\n",
              "       'Parch', 'Ticket', 'Fare', 'Cabin', 'Embarked'],\n",
              "      dtype='object')"
            ]
          },
          "metadata": {},
          "execution_count": 3
        }
      ]
    },
    {
      "cell_type": "code",
      "metadata": {
        "id": "tIg3JUHiJQia"
      },
      "source": [
        "# get features and label\n",
        "x = train_data.drop([\"Survived\"], axis=1)\n",
        "y = train_data[\"Survived\"]"
      ],
      "execution_count": null,
      "outputs": []
    },
    {
      "cell_type": "code",
      "metadata": {
        "colab": {
          "base_uri": "https://localhost:8080/"
        },
        "id": "Jd4IaBscKhEc",
        "outputId": "6dc88228-2742-406d-bd33-79f1e0fd5e35"
      },
      "source": [
        "# plot data to see relationships, count the amount of people survived\n",
        "# number of siblings in relation to survival\n",
        "\n",
        "num_of_siblings = [i for i in range(9)]\n",
        "sur = [0 for i in range(9)]\n",
        "\n",
        "for num, survived in zip(x['SibSp'], y):\n",
        "  if survived == 1:\n",
        "    sur[num] += 1\n",
        "\n",
        "plt.bar(num_of_siblings, sur)\n",
        "plt.xlabel(\"Number of siblings/spouses\")\n",
        "plt.ylabel(\"Number of people survived\")\n",
        "plt.show()"
      ],
      "execution_count": null,
      "outputs": [
        {
          "output_type": "display_data",
          "data": {
            "image/png": "[encoded data removed]",
            "text/plain": [
              "<Figure size 432x288 with 1 Axes>"
            ]
          },
          "metadata": {
            "needs_background": "light"
          }
        }
      ]
    },
    {
      "cell_type": "code",
      "metadata": {
        "colab": {
          "base_uri": "https://localhost:8080/"
        },
        "id": "9W0r2FUFQfxS",
        "outputId": "b4fe2a10-ab1b-41aa-c2f4-c362d96cd7f0"
      },
      "source": [
        "# number of parents in relation to survival\n",
        "num_of_parents = [i for i in range(6)]\n",
        "sur = [0 for i in range(6)]\n",
        "\n",
        "for num, survived in zip(x['Parch'], y):\n",
        "  if survived == 1:\n",
        "    sur[num] += 1\n",
        "\n",
        "plt.bar(num_of_parents, sur)\n",
        "plt.xlabel(\"Number of parents/children\")\n",
        "plt.ylabel(\"Number of people survived\")\n",
        "plt.show()"
      ],
      "execution_count": null,
      "outputs": [
        {
          "output_type": "display_data",
          "data": {
            "image/png": "[encoded data removed]",
            "text/plain": [
              "<Figure size 432x288 with 1 Axes>"
            ]
          },
          "metadata": {
            "needs_background": "light"
          }
        }
      ]
    },
    {
      "cell_type": "code",
      "metadata": {
        "colab": {
          "base_uri": "https://localhost:8080/"
        },
        "id": "92NONj33K3un",
        "outputId": "e8aa18e6-d31a-41d1-d9a3-6f822b7e0890"
      },
      "source": [
        "# gender in relation to survival\n",
        "gend = [\"Male\", \"Female\"]\n",
        "\n",
        "sur = {\n",
        "    \"male\": 0,\n",
        "    \"female\": 0\n",
        "}\n",
        "\n",
        "for survived, gender in zip(y, x['Sex']):\n",
        "  if survived == 1:\n",
        "    sur[gender] += 1\n",
        "\n",
        "sur = [sur[k] for k in sur.keys()]\n",
        "\n",
        "plt.bar(gend, sur)\n",
        "plt.xlabel(\"Gender\")\n",
        "plt.ylabel(\"Number of people survived\")\n",
        "plt.show()"
      ],
      "execution_count": null,
      "outputs": [
        {
          "output_type": "display_data",
          "data": {
            "image/png": "[encoded data removed]",
            "text/plain": [
              "<Figure size 432x288 with 1 Axes>"
            ]
          },
          "metadata": {
            "needs_background": "light"
          }
        }
      ]
    },
    {
      "cell_type": "code",
      "metadata": {
        "id": "vPqpEm7dRvaB",
        "colab": {
          "base_uri": "https://localhost:8080/"
        },
        "outputId": "13d3dbcd-f3ae-4e85-f2fe-92afc6f48d91"
      },
      "source": [
        "# ages in relation to survival\n",
        "ages = [i for i in range(80)]\n",
        "sur = [0 for i in range(80)]\n",
        "\n",
        "for survived, age in zip(y, x['Age']):\n",
        "  if survived == 1:\n",
        "    try:\n",
        "      idx = int(age)\n",
        "      sur[idx] += 1\n",
        "    except:\n",
        "      print(\"NaN value found, ignoring it\")"
      ],
      "execution_count": null,
      "outputs": [
        {
          "output_type": "stream",
          "name": "stdout",
          "text": [
            "NaN value found, ignoring it\n",
            "NaN value found, ignoring it\n",
            "NaN value found, ignoring it\n",
            "NaN value found, ignoring it\n",
            "NaN value found, ignoring it\n",
            "NaN value found, ignoring it\n",
            "NaN value found, ignoring it\n",
            "NaN value found, ignoring it\n",
            "NaN value found, ignoring it\n",
            "NaN value found, ignoring it\n",
            "NaN value found, ignoring it\n",
            "NaN value found, ignoring it\n",
            "NaN value found, ignoring it\n",
            "NaN value found, ignoring it\n",
            "NaN value found, ignoring it\n",
            "NaN value found, ignoring it\n",
            "NaN value found, ignoring it\n",
            "NaN value found, ignoring it\n",
            "NaN value found, ignoring it\n",
            "NaN value found, ignoring it\n",
            "NaN value found, ignoring it\n",
            "NaN value found, ignoring it\n",
            "NaN value found, ignoring it\n",
            "NaN value found, ignoring it\n",
            "NaN value found, ignoring it\n",
            "NaN value found, ignoring it\n",
            "NaN value found, ignoring it\n",
            "NaN value found, ignoring it\n",
            "NaN value found, ignoring it\n",
            "NaN value found, ignoring it\n",
            "NaN value found, ignoring it\n",
            "NaN value found, ignoring it\n",
            "NaN value found, ignoring it\n",
            "NaN value found, ignoring it\n",
            "NaN value found, ignoring it\n",
            "NaN value found, ignoring it\n",
            "NaN value found, ignoring it\n",
            "NaN value found, ignoring it\n",
            "NaN value found, ignoring it\n",
            "NaN value found, ignoring it\n",
            "NaN value found, ignoring it\n",
            "NaN value found, ignoring it\n",
            "NaN value found, ignoring it\n",
            "NaN value found, ignoring it\n",
            "NaN value found, ignoring it\n",
            "NaN value found, ignoring it\n",
            "NaN value found, ignoring it\n",
            "NaN value found, ignoring it\n",
            "NaN value found, ignoring it\n",
            "NaN value found, ignoring it\n",
            "NaN value found, ignoring it\n",
            "NaN value found, ignoring it\n",
            "NaN value found, ignoring it\n"
          ]
        }
      ]
    },
    {
      "cell_type": "code",
      "metadata": {
        "colab": {
          "base_uri": "https://localhost:8080/"
        },
        "id": "l2d7jQsiVZVb",
        "outputId": "2d1edeba-4a35-41ad-b2a7-d6a632cd8773"
      },
      "source": [
        "plt.plot(ages, sur)\n",
        "plt.xlabel(\"Age\")\n",
        "plt.ylabel(\"Number of people survived\")\n",
        "plt.show()"
      ],
      "execution_count": null,
      "outputs": [
        {
          "output_type": "display_data",
          "data": {
            "image/png": "[encoded data removed]",
            "text/plain": [
              "<Figure size 432x288 with 1 Axes>"
            ]
          },
          "metadata": {
            "needs_background": "light"
          }
        }
      ]
    },
    {
      "cell_type": "code",
      "metadata": {
        "colab": {
          "base_uri": "https://localhost:8080/"
        },
        "id": "qn3YOs02Up48",
        "outputId": "1bb0e4cf-aa34-42fb-bf4f-c581d43faf79"
      },
      "source": [
        "# class in relation to survival\n",
        "classes = [i for i in range(1,4)]\n",
        "sur = [0 for i in range(1,4)]\n",
        "\n",
        "for cls, survived in zip(x['Pclass'], y):\n",
        "  if survived == 1:\n",
        "    sur[cls - 1] += 1\n",
        "\n",
        "plt.bar(classes, sur)\n",
        "plt.xlabel(\"Classes\")\n",
        "plt.ylabel(\"Number of people survived\")\n",
        "plt.show()"
      ],
      "execution_count": null,
      "outputs": [
        {
          "output_type": "display_data",
          "data": {
            "image/png": "[encoded data removed]",
            "text/plain": [
              "<Figure size 432x288 with 1 Axes>"
            ]
          },
          "metadata": {
            "needs_background": "light"
          }
        }
      ]
    },
    {
      "cell_type": "code",
      "metadata": {
        "colab": {
          "base_uri": "https://localhost:8080/"
        },
        "id": "rKeMTZ4LUDU6",
        "outputId": "b039a4d5-de56-4dfe-9ca0-054a2a247483"
      },
      "source": [
        "# city embarked in relation to survival\n",
        "\n",
        "emb = [\"C\", \"Q\", \"S\"]\n",
        "sur = [0 for x in emb]\n",
        "\n",
        "keys = {\n",
        "    \"C\": 0,\n",
        "    \"Q\": 1,\n",
        "    \"S\": 2\n",
        "}\n",
        "\n",
        "for survived, embarked in zip(y, x['Embarked']):\n",
        "  if survived == 1:\n",
        "    try:\n",
        "      sur[keys[embarked]] += 1\n",
        "    except:\n",
        "      print(\"nan value found, ignoring it\")"
      ],
      "execution_count": null,
      "outputs": [
        {
          "output_type": "stream",
          "name": "stdout",
          "text": [
            "nan value found, ignoring it\n",
            "nan value found, ignoring it\n"
          ]
        }
      ]
    },
    {
      "cell_type": "code",
      "metadata": {
        "colab": {
          "base_uri": "https://localhost:8080/"
        },
        "id": "rdIOY3QxV1fL",
        "outputId": "e6c4806b-f4a2-4492-9971-afe0ba4ce925"
      },
      "source": [
        "plt.bar(emb, sur)\n",
        "plt.xlabel(\"City Embarked (C = Cherbourg, Q = Queenstown, S = Southampton)\")\n",
        "plt.ylabel(\"Number of people survived\")\n",
        "plt.show()"
      ],
      "execution_count": null,
      "outputs": [
        {
          "output_type": "display_data",
          "data": {
            "image/png": "[encoded data removed]",
            "text/plain": [
              "<Figure size 432x288 with 1 Axes>"
            ]
          },
          "metadata": {
            "needs_background": "light"
          }
        }
      ]
    },
    {
      "cell_type": "code",
      "metadata": {
        "colab": {
          "base_uri": "https://localhost:8080/"
        },
        "id": "ylwme5-yWNvg",
        "outputId": "b31f703b-80fb-4b96-b04e-680d82b460d8"
      },
      "source": [
        "fares = [str(50*x) + \" - \" + str(50 * (x + 1)) for x in range(10)] + [\"500+\"]\n",
        "sur = [0 for x in range(11)]\n",
        "\n",
        "for fare, survived in zip(x['Fare'], y):\n",
        "  if survived == 1:\n",
        "    for i in range(11):\n",
        "      if fare < 50 * (i + 1) and fare > i*50:\n",
        "        sur[i] += 1\n",
        "\n",
        "plt.figure(figsize=(12, 12))\n",
        "plt.bar(fares, sur)\n",
        "plt.xlabel(\"Fare Range\")\n",
        "plt.ylabel(\"Number of people survived\")\n",
        "plt.show()"
      ],
      "execution_count": null,
      "outputs": [
        {
          "output_type": "display_data",
          "data": {
            "image/png": "[encoded data removed]",
            "text/plain": [
              "<Figure size 864x864 with 1 Axes>"
            ]
          },
          "metadata": {
            "needs_background": "light"
          }
        }
      ]
    },
    {
      "cell_type": "markdown",
      "metadata": {
        "id": "FF-H_QtdgbE8"
      },
      "source": [
        "# Prepare data for models"
      ]
    },
    {
      "cell_type": "code",
      "metadata": {
        "id": "gINv_rAUghlP"
      },
      "source": [
        "# import preprocessing stuff\n",
        "from sklearn.impute import SimpleImputer\n",
        "from sklearn.preprocessing import OneHotEncoder, StandardScaler\n",
        "from sklearn.compose import ColumnTransformer\n",
        "from sklearn.pipeline import Pipeline"
      ],
      "execution_count": null,
      "outputs": []
    },
    {
      "cell_type": "code",
      "metadata": {
        "id": "XEuZpHy-g9eS"
      },
      "source": [
        "# drop irrelevant columns\n",
        "to_drop = [\"PassengerId\", \"Ticket\", \"Cabin\", \"Name\"]\n",
        "x = x.drop(to_drop, axis=1)\n"
      ],
      "execution_count": null,
      "outputs": []
    },
    {
      "cell_type": "code",
      "metadata": {
        "id": "3ITaWQ4IntzA"
      },
      "source": [
        "# get categorical and numerical columns\n",
        "categorical = [col for col in x.columns if x[col].dtype == \"object\"] + [\"Pclass\"]\n",
        "numerical = [col for col in x.columns if col not in categorical]"
      ],
      "execution_count": null,
      "outputs": []
    },
    {
      "cell_type": "code",
      "metadata": {
        "id": "Rjis27tchTBc"
      },
      "source": [
        "# preprocess the data\n",
        "\n",
        "numerical_transformer = Pipeline([\n",
        "                                  (\"impute\", SimpleImputer()),\n",
        "])\n",
        "\n",
        "categorical_transformer = Pipeline([\n",
        "                                    (\"imputer\", SimpleImputer(strategy=\"most_frequent\")),\n",
        "                                    (\"encoding\", OneHotEncoder(dtype=np.int32)),\n",
        "])\n",
        "\n",
        "preprocessor = ColumnTransformer([\n",
        "                                  (\"numerical\", numerical_transformer, numerical),\n",
        "                                  (\"categorical\", categorical_transformer, categorical)\n",
        "])\n",
        "\n",
        "X = preprocessor.fit_transform(x)"
      ],
      "execution_count": null,
      "outputs": []
    },
    {
      "cell_type": "code",
      "metadata": {
        "id": "2D1UQqM8lUvH"
      },
      "source": [
        "# split to train and test data\n",
        "from sklearn.model_selection import train_test_split\n",
        "\n",
        "x_train, x_val, y_train, y_val = train_test_split(X, y, random_state=42)"
      ],
      "execution_count": null,
      "outputs": []
    },
    {
      "cell_type": "markdown",
      "metadata": {
        "id": "1zvWbwbobxtm"
      },
      "source": [
        "# Try different models"
      ]
    },
    {
      "cell_type": "code",
      "metadata": {
        "id": "-bgVMmGob4Ll"
      },
      "source": [
        "# import models\n",
        "from sklearn.linear_model import LogisticRegression, SGDClassifier\n",
        "from sklearn.tree import DecisionTreeClassifier\n",
        "from sklearn.ensemble import RandomForestClassifier\n",
        "from xgboost import XGBClassifier, XGBRFClassifier\n",
        "from sklearn.naive_bayes import GaussianNB, CategoricalNB, ComplementNB, BernoulliNB\n",
        "from sklearn.neighbors import KNeighborsClassifier\n",
        "from sklearn.svm import SVC"
      ],
      "execution_count": null,
      "outputs": []
    },
    {
      "cell_type": "code",
      "metadata": {
        "id": "zQYdPP32cc9z"
      },
      "source": [
        "# initiate models\n",
        "models = {\n",
        "    \"logistic_regression\": LogisticRegression(),\n",
        "    \"SGDC\": SGDClassifier(),\n",
        "    \"decision_tree\": DecisionTreeClassifier(),\n",
        "    \"random_forest\": RandomForestClassifier(),\n",
        "    \"xgboost\": XGBClassifier(),\n",
        "    \"xgbrfc\": XGBRFClassifier(),\n",
        "    \"gaussin_nb\": GaussianNB(),\n",
        "    \"categorical_nb\": CategoricalNB(),\n",
        "    \"complement_nb\": ComplementNB(),\n",
        "    \"bernoulli_nb\": BernoulliNB(),\n",
        "    \"knn\": KNeighborsClassifier(),\n",
        "    \"svc\": SVC()\n",
        "}\n",
        "\n",
        "for model in models:\n",
        "  print(\"-----------------------------\")\n",
        "  print(\"Training: \" + model)\n",
        "  models[model].fit(x_train, y_train)\n",
        "  print(\"Score: \" + str(models[model].score(x_val, y_val)))\n",
        "  print(\"-----------------------------\")\n"
      ],
      "execution_count": null,
      "outputs": []
    },
    {
      "cell_type": "code",
      "metadata": {
        "id": "TzQnSgAFouhB"
      },
      "source": [
        "# next thing to do is to make functions for each model to check different parameters and how they improve the acuracy"
      ],
      "execution_count": null,
      "outputs": []
    }
  ]
}